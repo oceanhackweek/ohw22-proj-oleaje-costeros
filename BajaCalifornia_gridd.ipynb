{
 "cells": [
  {
   "cell_type": "code",
   "execution_count": 1,
   "id": "bc00bb22-9897-4593-b3fd-80eb52a7e217",
   "metadata": {},
   "outputs": [],
   "source": [
    "from erddapy import ERDDAP\n",
    "import numpy as np\n",
    "from matplotlib import pyplot as plt\n",
    "from matplotlib import dates as mdates\n",
    "import datetime\n",
    "import json\n"
   ]
  },
  {
   "cell_type": "code",
   "execution_count": 2,
   "id": "93130ae3-1afd-4b55-b656-a511dd7f2399",
   "metadata": {},
   "outputs": [],
   "source": [
    "# acceso a WW3 en ERDDAP\n",
    "e = ERDDAP(server=\"https://coastwatch.pfeg.noaa.gov/erddap\", protocol=\"griddap\",)\n",
    "e.dataset_id = (\"NWW3_Global_Best\")\n",
    "e.griddap_initialize()\n"
   ]
  },
  {
   "cell_type": "code",
   "execution_count": 7,
   "id": "506497e2-844c-4fd8-b023-3bf2d301e0fb",
   "metadata": {},
   "outputs": [],
   "source": [
    "# selección de zona, periodo de tiempo y variables\n",
    "# coordenadas de zona de interés UC-MEX: -116.5 a 117.5 W y 31.5 a 33 N\n",
    "# coordenadas de boya NDBC 46232 Point Loma South CA -117.42  y 32.517\n",
    "\n",
    "e.constraints ={\n",
    " \"time>=\": \"2020-08-1T00:00:00Z\",\n",
    " \"time<=\": \"2020-08-31T23:00:00Z\",\n",
    " \"time_step\": 1,\n",
    " \"deph>=\": 0,\n",
    " \"deph<=\": 0,\n",
    " \"deph_step\": 1,\n",
    " \"latitude>=\": 32.517,\n",
    " \"latitude<=\": 32.517,\n",
    " \"latitude_step\": 1,\n",
    " \"longitude>=\": -117.58,\n",
    " \"longitude<=\": -117.58,\n",
    " \"longitude_step\": 1\n",
    "}\n",
    "\n",
    "\n",
    "e.variables = [\n",
    "    \"Tdir\",\n",
    "    \"Tper\", \n",
    "    \"Thgt\", \n",
    "    \"sdir\", \n",
    "    \"sper\", \n",
    "    \"shgt\", \n",
    "    \"wdir\", \n",
    "    \"wper\", \n",
    "    \"whgt\"\n",
    "    ]"
   ]
  },
  {
   "cell_type": "code",
   "execution_count": 8,
   "id": "a3f2330e-4479-49e4-b114-45136461f47a",
   "metadata": {},
   "outputs": [
    {
     "name": "stdout",
     "output_type": "stream",
     "text": [
      "variables in this dataset:\n",
      "\n",
      "['Tdir', 'Tper', 'Thgt', 'sdir', 'sper', 'shgt', 'wdir', 'wper', 'whgt']\n"
     ]
    }
   ],
   "source": [
    "print(f\"variables in this dataset:\\n\\n{e.variables}\")"
   ]
  },
  {
   "cell_type": "code",
   "execution_count": 9,
   "id": "ea9d33d5-c649-4893-bc1f-edec8e1d274b",
   "metadata": {},
   "outputs": [
    {
     "name": "stdout",
     "output_type": "stream",
     "text": [
      "\n",
      "constraints of this dataset:\n",
      "\n",
      "{\n",
      " \"time>=\": \"2020-08-1T00:00:00Z\",\n",
      " \"time<=\": \"2020-08-31T23:00:00Z\",\n",
      " \"time_step\": 1,\n",
      " \"deph>=\": 0,\n",
      " \"deph<=\": 0,\n",
      " \"deph_step\": 1,\n",
      " \"latitude>=\": 32.517,\n",
      " \"latitude<=\": 32.517,\n",
      " \"latitude_step\": 1,\n",
      " \"longitude>=\": -117.58,\n",
      " \"longitude<=\": -117.58,\n",
      " \"longitude_step\": 1\n",
      "}\n"
     ]
    }
   ],
   "source": [
    "print(f\"\\nconstraints of this dataset:\\n\\n{json.dumps(e.constraints, indent=1)}\")"
   ]
  },
  {
   "cell_type": "code",
   "execution_count": 10,
   "id": "b58ce0b1-fcd3-4039-aa44-3d25db0dcd5c",
   "metadata": {},
   "outputs": [
    {
     "ename": "ValueError",
     "evalue": "keys in e.constraints have changed. Re-run e.griddap_initialize",
     "output_type": "error",
     "traceback": [
      "\u001b[0;31m---------------------------------------------------------------------------\u001b[0m",
      "\u001b[0;31mValueError\u001b[0m                                Traceback (most recent call last)",
      "Input \u001b[0;32mIn [10]\u001b[0m, in \u001b[0;36m<cell line: 2>\u001b[0;34m()\u001b[0m\n\u001b[1;32m      1\u001b[0m \u001b[38;5;66;03m#### cargar variables\u001b[39;00m\n\u001b[0;32m----> 2\u001b[0m df \u001b[38;5;241m=\u001b[39m \u001b[43me\u001b[49m\u001b[38;5;241;43m.\u001b[39;49m\u001b[43mto_pandas\u001b[49m\u001b[43m(\u001b[49m\u001b[43m)\u001b[49m\n",
      "File \u001b[0;32m/opt/conda/lib/python3.9/site-packages/erddapy/erddapy.py:593\u001b[0m, in \u001b[0;36mERDDAP.to_pandas\u001b[0;34m(self, **kw)\u001b[0m\n\u001b[1;32m    582\u001b[0m \u001b[38;5;124;03m\"\"\"Save a data request to a pandas.DataFrame.\u001b[39;00m\n\u001b[1;32m    583\u001b[0m \n\u001b[1;32m    584\u001b[0m \u001b[38;5;124;03mAccepts any `pandas.read_csv` keyword arguments.\u001b[39;00m\n\u001b[0;32m   (...)\u001b[0m\n\u001b[1;32m    590\u001b[0m \n\u001b[1;32m    591\u001b[0m \u001b[38;5;124;03m\"\"\"\u001b[39;00m\n\u001b[1;32m    592\u001b[0m response \u001b[38;5;241m=\u001b[39m kw\u001b[38;5;241m.\u001b[39mpop(\u001b[38;5;124m\"\u001b[39m\u001b[38;5;124mresponse\u001b[39m\u001b[38;5;124m\"\u001b[39m, \u001b[38;5;124m\"\u001b[39m\u001b[38;5;124mcsvp\u001b[39m\u001b[38;5;124m\"\u001b[39m)\n\u001b[0;32m--> 593\u001b[0m url \u001b[38;5;241m=\u001b[39m \u001b[38;5;28;43mself\u001b[39;49m\u001b[38;5;241;43m.\u001b[39;49m\u001b[43mget_download_url\u001b[49m\u001b[43m(\u001b[49m\u001b[43mresponse\u001b[49m\u001b[38;5;241;43m=\u001b[39;49m\u001b[43mresponse\u001b[49m\u001b[43m,\u001b[49m\u001b[43m \u001b[49m\u001b[38;5;241;43m*\u001b[39;49m\u001b[38;5;241;43m*\u001b[39;49m\u001b[43mkw\u001b[49m\u001b[43m)\u001b[49m\n\u001b[1;32m    594\u001b[0m data \u001b[38;5;241m=\u001b[39m urlopen(url, auth\u001b[38;5;241m=\u001b[39m\u001b[38;5;28mself\u001b[39m\u001b[38;5;241m.\u001b[39mauth, \u001b[38;5;241m*\u001b[39m\u001b[38;5;241m*\u001b[39m\u001b[38;5;28mself\u001b[39m\u001b[38;5;241m.\u001b[39mrequests_kwargs)\n\u001b[1;32m    595\u001b[0m \u001b[38;5;28;01mreturn\u001b[39;00m pd\u001b[38;5;241m.\u001b[39mread_csv(data, \u001b[38;5;241m*\u001b[39m\u001b[38;5;241m*\u001b[39mkw)\n",
      "File \u001b[0;32m/opt/conda/lib/python3.9/site-packages/erddapy/erddapy.py:520\u001b[0m, in \u001b[0;36mERDDAP.get_download_url\u001b[0;34m(self, dataset_id, protocol, variables, dim_names, response, constraints, **kwargs)\u001b[0m\n\u001b[1;32m    510\u001b[0m     \u001b[38;5;28;01mraise\u001b[39;00m \u001b[38;5;167;01mValueError\u001b[39;00m(\u001b[38;5;124mf\u001b[39m\u001b[38;5;124m\"\u001b[39m\u001b[38;5;124mPlease specify a valid `protocol`, got \u001b[39m\u001b[38;5;132;01m{\u001b[39;00mprotocol\u001b[38;5;132;01m}\u001b[39;00m\u001b[38;5;124m\"\u001b[39m)\n\u001b[1;32m    512\u001b[0m \u001b[38;5;28;01mif\u001b[39;00m (\n\u001b[1;32m    513\u001b[0m     protocol \u001b[38;5;241m==\u001b[39m \u001b[38;5;124m\"\u001b[39m\u001b[38;5;124mgriddap\u001b[39m\u001b[38;5;124m\"\u001b[39m\n\u001b[1;32m    514\u001b[0m     \u001b[38;5;129;01mand\u001b[39;00m constraints \u001b[38;5;129;01mis\u001b[39;00m \u001b[38;5;129;01mnot\u001b[39;00m \u001b[38;5;28;01mNone\u001b[39;00m\n\u001b[0;32m   (...)\u001b[0m\n\u001b[1;32m    517\u001b[0m ):\n\u001b[1;32m    518\u001b[0m     \u001b[38;5;66;03m# Check that dimensions, constraints and variables are valid for this dataset\u001b[39;00m\n\u001b[0;32m--> 520\u001b[0m     \u001b[43m_griddap_check_constraints\u001b[49m\u001b[43m(\u001b[49m\u001b[43mconstraints\u001b[49m\u001b[43m,\u001b[49m\u001b[43m \u001b[49m\u001b[38;5;28;43mself\u001b[39;49m\u001b[38;5;241;43m.\u001b[39;49m\u001b[43m_constraints_original\u001b[49m\u001b[43m)\u001b[49m\n\u001b[1;32m    521\u001b[0m     _griddap_check_variables(variables, \u001b[38;5;28mself\u001b[39m\u001b[38;5;241m.\u001b[39m_variables_original)\n\u001b[1;32m    522\u001b[0m     download_url \u001b[38;5;241m=\u001b[39m [\n\u001b[1;32m    523\u001b[0m         \u001b[38;5;28mself\u001b[39m\u001b[38;5;241m.\u001b[39mserver,\n\u001b[1;32m    524\u001b[0m         \u001b[38;5;124m\"\u001b[39m\u001b[38;5;124m/\u001b[39m\u001b[38;5;124m\"\u001b[39m,\n\u001b[0;32m   (...)\u001b[0m\n\u001b[1;32m    530\u001b[0m         \u001b[38;5;124m\"\u001b[39m\u001b[38;5;124m?\u001b[39m\u001b[38;5;124m\"\u001b[39m,\n\u001b[1;32m    531\u001b[0m     ]\n",
      "File \u001b[0;32m/opt/conda/lib/python3.9/site-packages/erddapy/erddapy.py:129\u001b[0m, in \u001b[0;36m_griddap_check_constraints\u001b[0;34m(user_constraints, original_constraints)\u001b[0m\n\u001b[1;32m    127\u001b[0m \u001b[38;5;124;03m\"\"\"Check that constraints changed by user match those expected by dataset.\"\"\"\u001b[39;00m\n\u001b[1;32m    128\u001b[0m \u001b[38;5;28;01mif\u001b[39;00m user_constraints\u001b[38;5;241m.\u001b[39mkeys() \u001b[38;5;241m!=\u001b[39m original_constraints\u001b[38;5;241m.\u001b[39mkeys():\n\u001b[0;32m--> 129\u001b[0m     \u001b[38;5;28;01mraise\u001b[39;00m \u001b[38;5;167;01mValueError\u001b[39;00m(\n\u001b[1;32m    130\u001b[0m         \u001b[38;5;124m\"\u001b[39m\u001b[38;5;124mkeys in e.constraints have changed. Re-run e.griddap_initialize\u001b[39m\u001b[38;5;124m\"\u001b[39m,\n\u001b[1;32m    131\u001b[0m     )\n",
      "\u001b[0;31mValueError\u001b[0m: keys in e.constraints have changed. Re-run e.griddap_initialize"
     ]
    }
   ],
   "source": [
    "#### cargar variables\n",
    "df = e.to_pandas()"
   ]
  },
  {
   "cell_type": "markdown",
   "id": "73baa802-e5bf-4e44-863b-9704d7cf2846",
   "metadata": {},
   "source": [
    "print(df)"
   ]
  },
  {
   "cell_type": "code",
   "execution_count": null,
   "id": "8e32fb9e-0a19-48e2-93f8-aa75a16002eb",
   "metadata": {},
   "outputs": [],
   "source": [
    "# Acceso a datos\n",
    "Dat = df.values"
   ]
  },
  {
   "cell_type": "code",
   "execution_count": null,
   "id": "aa37ff25-f7d3-4612-921e-d40a4d105c32",
   "metadata": {},
   "outputs": [],
   "source": [
    "# Crea variables independientes\n",
    "Time = Dat[:,0]     # Tiempo\n",
    "Dep = Dat[:,1]      # Profundidad, no deberia tener data, se puede obviar\n",
    "Lat = Dat[:,2]    # Latitud\n",
    "Lon = Dat[:,3]    # Longitud\n",
    "\n",
    "Tdir = Dat[:,4]   # Dirección del oleaje (total)\n",
    "Tper = Dat[:,5]   # Periodo del oleaje (total)\n",
    "Thgt = Dat[:,6]   # Altura del oleaje (total)\n",
    "\n",
    "sdir = Dat[:,7]   # Dirección del oleaje (por Swell, por mar de fondo)\n",
    "sper = Dat[:,8]   # Periodo del oleaje (por Swell)\n",
    "shgt = Dat[:,9]   # Altura del oleaje (por Swell)\n",
    "\n",
    "wdir = Dat[:,10]   # Dirección del oleaje (por viento)\n",
    "wper = Dat[:,11]   # Periodo del oleaje (por viento)\n",
    "whgt = Dat[:,12]   # Altura del oleaje (por viento)\n",
    "\n",
    "\n",
    "plt.figure(figsize=(15,5))\n",
    "plt.plot(Thgt)\n",
    "plt.title('Hs (m)')   # significant wave height"
   ]
  },
  {
   "cell_type": "code",
   "execution_count": null,
   "id": "5bbaba18-0d46-4301-822d-a72db096452c",
   "metadata": {},
   "outputs": [],
   "source": [
    "Thgt.shape"
   ]
  },
  {
   "cell_type": "code",
   "execution_count": null,
   "id": "e14ae728-0225-47f3-8bac-315a389418f6",
   "metadata": {},
   "outputs": [],
   "source": []
  }
 ],
 "metadata": {
  "kernelspec": {
   "display_name": "Python 3 (ipykernel)",
   "language": "python",
   "name": "python3"
  },
  "language_info": {
   "codemirror_mode": {
    "name": "ipython",
    "version": 3
   },
   "file_extension": ".py",
   "mimetype": "text/x-python",
   "name": "python",
   "nbconvert_exporter": "python",
   "pygments_lexer": "ipython3",
   "version": "3.9.13"
  }
 },
 "nbformat": 4,
 "nbformat_minor": 5
}
